{
 "cells": [
  {
   "cell_type": "markdown",
   "id": "61e57c39",
   "metadata": {},
   "source": [
    "### Loading dataset"
   ]
  },
  {
   "cell_type": "code",
   "execution_count": 13,
   "id": "237a583b",
   "metadata": {},
   "outputs": [],
   "source": [
    "import pandas as pd\n",
    "import torch\n",
    "import torch.nn as nn\n",
    "from torch.utils.data import DataLoader\n",
    "\n",
    "import sys\n",
    "sys.path.append('..')\n",
    "from src.dataset import MovieDataset\n",
    "from src.train import train\n",
    "from src.model import RecSysModel\n",
    "from benchmark.evaluate import validate_model\n",
    "data_relative_path = \"./../data/raw/ml-100k/u.data\"\n",
    "moives_relative_path = \"./../data/raw/ml-100k/u.item\"\n",
    "user_relative_path = \"./../data/raw/ml-100k/u.user\"\n",
    "\n",
    "column_names = ['user', 'movie', 'rating', 'time']\n",
    "users_columns_names = [\"id\", \"age\", \"gender\", \"occupation\", \"zip code\"]\n",
    "movies_columns_names = [\"id\",\n",
    "                        \"name\",\n",
    "                        \"date\",\n",
    "                        \"empty\",\n",
    "                        \"url\",\n",
    "                        \"unknown\",\n",
    "                        \"Action\",\n",
    "                        \"Adventure\",\n",
    "                        \"Animation\",\n",
    "                        \"Children's\",\n",
    "                        \"Comedy\",\n",
    "                        \"Crime\",\n",
    "                        \"Documentary\",\n",
    "                        \"Drama\",\n",
    "                        \"Fantasy\",\n",
    "                        \"Film-Noir\",\n",
    "                        \"Horror\",\n",
    "                        \"Musical\",\n",
    "                        \"Mystery\",\n",
    "                        \"Romance\",\n",
    "                        \"Sci-Fi\",\n",
    "                        \"Thriller\",\n",
    "                        \"War\",\n",
    "                        \"Western\"]\n",
    "\n",
    "\n",
    "\n",
    "train_df = pd.read_csv(data_relative_path + f'/../ua.base', sep = '\\t', header = None, names = column_names).drop('time', axis = 1)\n",
    "val_df = pd.read_csv(data_relative_path + f'/../ua.test', sep = '\\t', header = None, names = column_names).drop('time', axis = 1)\n",
    "\n",
    "users_df = pd.get_dummies(pd.read_csv(user_relative_path, sep = \"|\", header = None, names = users_columns_names).drop('zip code' , axis = 1))\n",
    "users_df['age'] = users_df['age'].apply(lambda x: (x-users_df['age'].mean())/ users_df['age'].std())\n",
    "movies_df = pd.read_csv(moives_relative_path, sep = '|', header = None, encoding='ISO-8859-1', names = movies_columns_names).drop(['name', 'date', 'empty', 'url'], axis = 1 )\n",
    "\n",
    "train_dataset = MovieDataset(users_df, movies_df , train_df)\n",
    "val_dataset = MovieDataset(users_df, movies_df , val_df)\n",
    "\n",
    "train_dataloader = DataLoader(train_dataset, batch_size=128, shuffle=True) \n"
   ]
  },
  {
   "cell_type": "markdown",
   "id": "76fea576",
   "metadata": {},
   "source": [
    "### Hyper-Parameters"
   ]
  },
  {
   "cell_type": "code",
   "execution_count": 14,
   "id": "57a0833a",
   "metadata": {},
   "outputs": [],
   "source": [
    "embedding_size =  100\n",
    "hidden_layers =  (256, 128, 64)\n",
    "lr = 0.0005"
   ]
  },
  {
   "cell_type": "markdown",
   "id": "c0a2406b",
   "metadata": {},
   "source": [
    "### Defining The Model "
   ]
  },
  {
   "cell_type": "code",
   "execution_count": 15,
   "id": "0dfda798",
   "metadata": {},
   "outputs": [],
   "source": [
    "num_users = 944\n",
    "num_movies = 1683\n",
    "\n",
    "\n",
    "model = RecSysModel(num_users, num_movies, embedding_size, hidden_layers)\n",
    "model.to('cuda')\n",
    "criterion = nn.MSELoss()\n",
    "optimizer = torch.optim.Adam(model.parameters(), lr=lr)\n",
    "scheduler = torch.optim.lr_scheduler.LinearLR(optimizer)\n"
   ]
  },
  {
   "cell_type": "markdown",
   "id": "9f6c5ea3",
   "metadata": {},
   "source": [
    "### Training The model"
   ]
  },
  {
   "cell_type": "code",
   "execution_count": 16,
   "id": "6075d1ee",
   "metadata": {},
   "outputs": [
    {
     "name": "stderr",
     "output_type": "stream",
     "text": [
      "100%|████████████████████████████████████████████████████████████████████████████████████| 5/5 [04:52<00:00, 58.51s/it]\n"
     ]
    }
   ],
   "source": [
    "train(model, criterion, optimizer, scheduler, train_dataloader)"
   ]
  },
  {
   "cell_type": "markdown",
   "id": "17c878b5",
   "metadata": {},
   "source": [
    "### Evaluating The Model"
   ]
  },
  {
   "cell_type": "code",
   "execution_count": 17,
   "id": "51909a47",
   "metadata": {},
   "outputs": [
    {
     "name": "stdout",
     "output_type": "stream",
     "text": [
      "Model Validation Started\n"
     ]
    },
    {
     "name": "stderr",
     "output_type": "stream",
     "text": [
      "100%|███████████████████████████████████████████████████████████████████████████████| 944/944 [00:04<00:00, 215.75it/s]\n"
     ]
    }
   ],
   "source": [
    "avg_rmse, avg_dcg = validate_model(model, val_dataset, num_users)"
   ]
  },
  {
   "cell_type": "code",
   "execution_count": 18,
   "id": "62a1a472",
   "metadata": {},
   "outputs": [
    {
     "name": "stdout",
     "output_type": "stream",
     "text": [
      "0.9983987128579143\n"
     ]
    }
   ],
   "source": [
    "print(avg_rmse)"
   ]
  },
  {
   "cell_type": "code",
   "execution_count": 19,
   "id": "2ea25de6",
   "metadata": {},
   "outputs": [
    {
     "name": "stdout",
     "output_type": "stream",
     "text": [
      "16.81041332556034\n"
     ]
    }
   ],
   "source": [
    "print(avg_dcg)"
   ]
  }
 ],
 "metadata": {
  "kernelspec": {
   "display_name": "Python 3 (ipykernel)",
   "language": "python",
   "name": "python3"
  },
  "language_info": {
   "codemirror_mode": {
    "name": "ipython",
    "version": 3
   },
   "file_extension": ".py",
   "mimetype": "text/x-python",
   "name": "python",
   "nbconvert_exporter": "python",
   "pygments_lexer": "ipython3",
   "version": "3.10.9"
  }
 },
 "nbformat": 4,
 "nbformat_minor": 5
}
